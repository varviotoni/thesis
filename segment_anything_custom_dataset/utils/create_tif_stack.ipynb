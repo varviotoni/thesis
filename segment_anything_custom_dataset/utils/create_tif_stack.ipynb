{
 "cells": [
  {
   "cell_type": "code",
   "execution_count": 2,
   "metadata": {},
   "outputs": [
    {
     "name": "stderr",
     "output_type": "stream",
     "text": [
      "/tmp/ipykernel_6029/1502236781.py:6: DeprecationWarning: <tifffile.TiffWriter.save> is deprecated. Use TiffWriter.write\n",
      "  stack.save(\n",
      "/tmp/ipykernel_6029/1502236781.py:14: DeprecationWarning: <tifffile.TiffWriter.save> is deprecated. Use TiffWriter.write\n",
      "  stack.save(\n"
     ]
    }
   ],
   "source": [
    "import glob\n",
    "import tifffile\n",
    "\n",
    "with tifffile.TiffWriter('remote_sensing_buildings/train_tif/train_stack.tif') as stack:\n",
    "    for filename in glob.glob('remote_sensing_buildings/train_tif/*.tif'):\n",
    "        stack.save(\n",
    "            tifffile.imread(filename), \n",
    "             \n",
    "            #contiguous=True\n",
    "        )\n",
    "        \n",
    "with tifffile.TiffWriter('remote_sensing_buildings/bin_masks/train_masks_stack.tif') as stack:\n",
    "    for filename in glob.glob('remote_sensing_buildings/bin_masks/*.tif'):\n",
    "        stack.save(\n",
    "            tifffile.imread(filename), \n",
    "             \n",
    "            #contiguous=True\n",
    "        )"
   ]
  }
 ],
 "metadata": {
  "kernelspec": {
   "display_name": "SAM-custom-data",
   "language": "python",
   "name": "python3"
  },
  "language_info": {
   "codemirror_mode": {
    "name": "ipython",
    "version": 3
   },
   "file_extension": ".py",
   "mimetype": "text/x-python",
   "name": "python",
   "nbconvert_exporter": "python",
   "pygments_lexer": "ipython3",
   "version": "3.10.13"
  }
 },
 "nbformat": 4,
 "nbformat_minor": 2
}
