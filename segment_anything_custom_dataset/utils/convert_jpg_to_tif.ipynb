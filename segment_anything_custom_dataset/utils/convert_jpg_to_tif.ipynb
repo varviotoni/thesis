{
 "cells": [
  {
   "cell_type": "code",
   "execution_count": 8,
   "metadata": {},
   "outputs": [],
   "source": [
    "from PIL import Image\n",
    "import os\n",
    "\n",
    "def convert_jpg_to_tif(input_folder, output_folder):\n",
    "    # Ensure the output folder exists\n",
    "    if not os.path.exists(output_folder):\n",
    "        os.makedirs(output_folder)\n",
    "\n",
    "    # Iterate over all files in the input folder\n",
    "    for file_name in os.listdir(input_folder):\n",
    "        if file_name.lower().endswith('.jpg'):\n",
    "            # Construct full file path\n",
    "            jpg_file_path = os.path.join(input_folder, file_name)\n",
    "            \n",
    "\n",
    "            # Load the JPG image\n",
    "            with Image.open(jpg_file_path) as img:\n",
    "                # Convert the image to TIFF\n",
    "                tif_file = os.path.join(output_folder, os.path.splitext(file_name)[0] + '.tif')\n",
    "                img.save(tif_file, format='TIFF')\n",
    "\n",
    "# Example usage\n",
    "input_folder = 'remote_sensing_buildings/train/'  # Replace with your JPG file path\n",
    "output_folder = 'remote_sensing_buildings/train_tif'   # Replace with your desired output folder path\n",
    "\n",
    "convert_jpg_to_tif(input_folder, output_folder)"
   ]
  }
 ],
 "metadata": {
  "kernelspec": {
   "display_name": "SAM-custom-data",
   "language": "python",
   "name": "python3"
  },
  "language_info": {
   "codemirror_mode": {
    "name": "ipython",
    "version": 3
   },
   "file_extension": ".py",
   "mimetype": "text/x-python",
   "name": "python",
   "nbconvert_exporter": "python",
   "pygments_lexer": "ipython3",
   "version": "3.10.13"
  }
 },
 "nbformat": 4,
 "nbformat_minor": 2
}
