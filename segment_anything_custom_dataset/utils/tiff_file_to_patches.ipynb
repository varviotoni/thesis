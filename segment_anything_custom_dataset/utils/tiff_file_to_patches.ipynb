{
 "cells": [
  {
   "cell_type": "code",
   "execution_count": 3,
   "id": "f2a58b75-4a79-424e-8973-92be74c1d942",
   "metadata": {
    "tags": []
   },
   "outputs": [
    {
     "name": "stdout",
     "output_type": "stream",
     "text": [
      "Patching complete.\n"
     ]
    }
   ],
   "source": [
    "import os\n",
    "from osgeo import gdal\n",
    "import numpy as np\n",
    "\n",
    "# Input GeoTIFF file\n",
    "input_geotiff = \"hervanta_iso.tiff\"\n",
    "\n",
    "# Output directory for patches\n",
    "output_dir = \"patches\"\n",
    "os.makedirs(output_dir, exist_ok=True)\n",
    "\n",
    "# Patch size (in pixels)\n",
    "patch_size_x = 1024  # Width of the patch\n",
    "patch_size_y = 1024 # Height of the patch\n",
    "\n",
    "# Open the GeoTIFF file\n",
    "ds = gdal.Open(input_geotiff)\n",
    "\n",
    "if ds is None:\n",
    "    print(\"Failed to open the GeoTIFF file.\")\n",
    "    exit(1)\n",
    "\n",
    "# Get image dimensions\n",
    "width = ds.RasterXSize\n",
    "height = ds.RasterYSize\n",
    "\n",
    "# Loop through the image and extract patches\n",
    "for x in range(0, width, patch_size_x):\n",
    "    for y in range(0, height, patch_size_y):\n",
    "        x_offset = x\n",
    "        y_offset = y\n",
    "        x_size = min(patch_size_x, width - x_offset)\n",
    "        y_size = min(patch_size_y, height - y_offset)\n",
    "\n",
    "        # Read the data for the patch\n",
    "        data = ds.ReadAsArray(x_offset, y_offset, x_size, y_size)\n",
    "\n",
    "        # Save the patch as a new GeoTIFF file\n",
    "        patch_filename = os.path.join(output_dir, f\"patch_{x}_{y}.tif\")\n",
    "        driver = gdal.GetDriverByName(\"GTiff\")\n",
    "        patch_ds = driver.Create(patch_filename, x_size, y_size, ds.RasterCount, ds.GetRasterBand(1).DataType)\n",
    "        patch_ds.SetProjection(ds.GetProjection())\n",
    "        patch_ds.SetGeoTransform((ds.GetGeoTransform()[0] + x_offset * ds.GetGeoTransform()[1],\n",
    "                                  ds.GetGeoTransform()[1],\n",
    "                                  ds.GetGeoTransform()[2],\n",
    "                                  ds.GetGeoTransform()[3] + y_offset * ds.GetGeoTransform()[5],\n",
    "                                  ds.GetGeoTransform()[4],\n",
    "                                  ds.GetGeoTransform()[5]))\n",
    "        for band_num in range(1, ds.RasterCount + 1):\n",
    "            band = ds.GetRasterBand(band_num)\n",
    "            patch_band = patch_ds.GetRasterBand(band_num)\n",
    "            patch_band.WriteArray(data[band_num - 1, :, :])\n",
    "            patch_band.FlushCache()\n",
    "\n",
    "        patch_ds = None\n",
    "\n",
    "# Close the input GeoTIFF dataset\n",
    "ds = None\n",
    "\n",
    "print(\"Patching complete.\")"
   ]
  }
 ],
 "metadata": {
  "kernelspec": {
   "display_name": "Python 3 (ipykernel)",
   "language": "python",
   "name": "python3"
  },
  "language_info": {
   "codemirror_mode": {
    "name": "ipython",
    "version": 3
   },
   "file_extension": ".py",
   "mimetype": "text/x-python",
   "name": "python",
   "nbconvert_exporter": "python",
   "pygments_lexer": "ipython3",
   "version": "3.10.12"
  }
 },
 "nbformat": 4,
 "nbformat_minor": 5
}
